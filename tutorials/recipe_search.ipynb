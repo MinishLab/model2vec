{
 "cells": [
  {
   "cell_type": "markdown",
   "metadata": {},
   "source": [
    "**Recipe Search using Model2Vec**\n",
    "\n",
    "This notebook demonstrates how to use the Model2Vec library to search for recipes based on a given query. Three modes of Model2Vec use are demonstrated:\n",
    "1. **Using a pre-trained output vocab model**: Uses a pre-trained output embedding model. This is a very small model that uses a subword tokenizer. \n",
    "2. **Using a pre-trained glove vocab model**: Uses pre-trained glove vocab model. This is a larger model that uses a word tokenizer.\n",
    "3. **Using a custom vocab model**: Uses a custom domain-specific vocab model that is distilled on a vocab created from the recipe dataset. "
   ]
  },
  {
   "cell_type": "code",
   "execution_count": null,
   "metadata": {},
   "outputs": [],
   "source": [
    "# Install the necessary libraries\n",
    "!pip install numpy datasets scikit-learn transformers model2vec\n",
    "    \n",
    "# Import the necessary libraries\n",
    "import regex\n",
    "from collections import Counter\n",
    "\n",
    "import numpy as np\n",
    "from datasets import load_dataset\n",
    "from sklearn.metrics import pairwise_distances\n",
    "from tokenizers.pre_tokenizers import Whitespace\n",
    "\n",
    "from model2vec import StaticModel\n",
    "from model2vec.distill import distill"
   ]
  },
  {
   "cell_type": "code",
   "execution_count": 45,
   "metadata": {},
   "outputs": [
    {
     "name": "stdout",
     "output_type": "stream",
     "text": [
      "                        title  \\\n",
      "0  Simple Macaroni and Cheese   \n",
      "1    Gourmet Mushroom Risotto   \n",
      "2              Dessert Crepes   \n",
      "3                 Pork Steaks   \n",
      "4  Quick and Easy Pizza Crust   \n",
      "\n",
      "                                                 url              category  \\\n",
      "0  https://www.allrecipes.com/recipe/238691/simpl...             main-dish   \n",
      "1  https://www.allrecipes.com/recipe/85389/gourme...             main-dish   \n",
      "2  https://www.allrecipes.com/recipe/19037/desser...  breakfast-and-brunch   \n",
      "3  https://www.allrecipes.com/recipe/70463/pork-s...      meat-and-poultry   \n",
      "4  https://www.allrecipes.com/recipe/20171/quick-...                 bread   \n",
      "\n",
      "                  author                                        description  \\\n",
      "0            g0dluvsugly  A very quick and easy fix to a tasty side-dish...   \n",
      "1  Myleen Sagrado Sjödin  Authentic Italian-style risotto cooked the slo...   \n",
      "2                  ANN57  Essential crepe recipe.  Sprinkle warm crepes ...   \n",
      "3           BABYLOVE1222  My mom came up with this recipe when I was a c...   \n",
      "4             CHEF RIDER  This is a great recipe when you don't want to ...   \n",
      "\n",
      "   rating  rating_count  review_count  \\\n",
      "0    4.42           834           575   \n",
      "1    4.80          3388          2245   \n",
      "2    4.80          1156           794   \n",
      "3    4.57           689           539   \n",
      "4    4.70          3741          2794   \n",
      "\n",
      "                                         ingredients  \\\n",
      "0  1 (8 ounce) box elbow macaroni ; ¼ cup butter ...   \n",
      "1  6 cups chicken broth, divided ; 3 tablespoons ...   \n",
      "2  4  eggs, lightly beaten ; 1 ⅓ cups milk ; 2 ta...   \n",
      "3  ¼ cup butter ; ¼ cup soy sauce ; 1 bunch green...   \n",
      "4  1 (.25 ounce) package active dry yeast ; 1 tea...   \n",
      "\n",
      "                                          directions  ... vitamin_k_mcg  \\\n",
      "0  Bring a large pot of lightly salted water to a...  ...           NaN   \n",
      "1  In a saucepan, warm the broth over low heat. W...  ...           NaN   \n",
      "2  In large bowl, whisk together eggs, milk, melt...  ...           NaN   \n",
      "3  Melt butter in a skillet, and mix in the soy s...  ...           NaN   \n",
      "4  Preheat oven to 450 degrees F (230 degrees C)....  ...           NaN   \n",
      "\n",
      "  biotin_mcg vitamin_b12_mcg  mono_fat_g poly_fat_g  trans_fatty_acid_g  \\\n",
      "0        NaN             NaN         NaN        NaN                 NaN   \n",
      "1        NaN             NaN         NaN        NaN                 NaN   \n",
      "2        NaN             NaN         NaN        NaN                 NaN   \n",
      "3        NaN             NaN         NaN        NaN                 NaN   \n",
      "4        NaN             NaN         NaN        NaN                 NaN   \n",
      "\n",
      "   omega_3_fatty_acid_g  omega_6_fatty_acid_g  \\\n",
      "0                   NaN                   NaN   \n",
      "1                   NaN                   NaN   \n",
      "2                   NaN                   NaN   \n",
      "3                   NaN                   NaN   \n",
      "4                   NaN                   NaN   \n",
      "\n",
      "                                   instructions_list  \\\n",
      "0  ['Bring a large pot of lightly salted water to...   \n",
      "1  ['Warm broth in a saucepan over low heat.', 'M...   \n",
      "2  ['Whisk together eggs, milk, flour, melted but...   \n",
      "3  ['Melt butter in a skillet over medium heat; s...   \n",
      "4  ['Preheat oven to 450 degrees F (230 degrees C...   \n",
      "\n",
      "                                               image  \n",
      "0  https://www.allrecipes.com/thmb/GZrTl8DBwmRuor...  \n",
      "1  https://www.allrecipes.com/thmb/xCk4IEjfAYBikO...  \n",
      "2  https://www.allrecipes.com/thmb/VwULr05JFDluPI...  \n",
      "3  https://www.allrecipes.com/thmb/mYkvln7o9pb35l...  \n",
      "4  https://www.allrecipes.com/thmb/V3Llo-ottudIs_...  \n",
      "\n",
      "[5 rows x 49 columns]\n"
     ]
    }
   ],
   "source": [
    "# Load the recipe dataset\n",
    "dataset = load_dataset(\"Shengtao/recipe\", split=\"train\")\n",
    "# Convert the dataset to a pandas DataFrame\n",
    "dataset = dataset.to_pandas()\n",
    "# Display the first few rows of the dataset\n",
    "print(dataset.head())\n",
    "# Take the title column as our recipes corpus\n",
    "recipes = dataset[\"title\"]"
   ]
  },
  {
   "cell_type": "code",
   "execution_count": 46,
   "metadata": {},
   "outputs": [],
   "source": [
    "# Define a function to find the most similar titles in a dataset to a given query\n",
    "def find_most_similar_items(model: StaticModel, embeddings: np.ndarray, query: str, top_k=5) -> list[tuple[int, float]]:\n",
    "    \"\"\"\n",
    "    Finds the most similar items in a dataset to the given query using the specified model.\n",
    "\n",
    "    :param model: The model used to generate embeddings.\n",
    "    :param embeddings: The embeddings of the dataset.\n",
    "    :param query: The query recipe title.\n",
    "    :param top_k: The number of most similar titles to return.\n",
    "    :return: A list of tuples containing the most similar titles and their cosine similarity scores.\n",
    "    \"\"\"\n",
    "    # Generate embedding for the query\n",
    "    query_embedding = model.encode(query)[None, :]\n",
    "\n",
    "    # Calculate pairwise cosine distances between the query and the precomputed embeddings\n",
    "    distances = pairwise_distances(query_embedding, embeddings, metric='cosine')[0]\n",
    "\n",
    "    # Get the indices of the most similar items (sorted in ascending order because smaller distances are better)\n",
    "    most_similar_indices = np.argsort(distances)\n",
    "\n",
    "    # Convert distances to similarity scores (cosine similarity = 1 - cosine distance)\n",
    "    most_similar_scores = [1 - distances[i] for i in most_similar_indices[:top_k]]\n",
    "\n",
    "    # Return the top-k most similar indices and similarity scores\n",
    "    return list(zip(most_similar_indices[:top_k], most_similar_scores))"
   ]
  },
  {
   "cell_type": "code",
   "execution_count": null,
   "metadata": {},
   "outputs": [],
   "source": [
    "# Load the M2V output model from the HuggingFace hub\n",
    "model_name = \"minishlab/M2V_base_output\"\n",
    "model_output = StaticModel.from_pretrained(model_name)"
   ]
  },
  {
   "cell_type": "code",
   "execution_count": 91,
   "metadata": {},
   "outputs": [
    {
     "name": "stdout",
     "output_type": "stream",
     "text": [
      "Most similar recipes to 'cheeseburger':\n",
      "Title: `Double Cheeseburger`, Similarity Score: 0.9028\n",
      "Title: `Cheeseburger Chowder`, Similarity Score: 0.8574\n",
      "Title: `Cheeseburger Sliders`, Similarity Score: 0.8413\n",
      "Title: `Cheeseburger Salad`, Similarity Score: 0.8384\n",
      "Title: `Cheeseburger Soup I`, Similarity Score: 0.8298\n",
      "\n",
      "Most similar recipes to 'fattoush':\n",
      "Title: `Fattoush`, Similarity Score: 1.0000\n",
      "Title: `Lebanese Fattoush`, Similarity Score: 0.8370\n",
      "Title: `Aunty Terese's Fattoush`, Similarity Score: 0.7630\n",
      "Title: `Arabic Fattoush Salad`, Similarity Score: 0.7588\n",
      "Title: `Authentic Lebanese Fattoush`, Similarity Score: 0.7584\n"
     ]
    }
   ],
   "source": [
    "# Find recipes using the output embeddings model\n",
    "top_k = 5\n",
    "\n",
    "# Find the most similar recipes to the given queries\n",
    "query = \"cheeseburger\"\n",
    "embeddings = model_output.encode(recipes)\n",
    "\n",
    "results = find_most_similar_items(model_output, embeddings, query, top_k)\n",
    "print(f\"Most similar recipes to '{query}':\")\n",
    "for idx, score in results:\n",
    "    print(f\"Title: `{recipes[idx]}`, Similarity Score: {score:.4f}\")\n",
    "    \n",
    "print()\n",
    "\n",
    "query = \"fattoush\"\n",
    "results = find_most_similar_items(model_output, embeddings, query, top_k)\n",
    "print(f\"Most similar recipes to '{query}':\")\n",
    "for idx, score in results:\n",
    "    print(f\"Title: `{recipes[idx]}`, Similarity Score: {score:.4f}\")\n",
    "    "
   ]
  },
  {
   "cell_type": "code",
   "execution_count": null,
   "metadata": {},
   "outputs": [],
   "source": [
    "# Load the M2V glove model from the HuggingFace hub\n",
    "model_name = \"minishlab/M2V_base_glove\"\n",
    "model_glove = StaticModel.from_pretrained(model_name)"
   ]
  },
  {
   "cell_type": "code",
   "execution_count": 92,
   "metadata": {},
   "outputs": [
    {
     "name": "stdout",
     "output_type": "stream",
     "text": [
      "Most similar recipes to 'cheeseburger':\n",
      "Title: `Double Cheeseburger`, Similarity Score: 0.8744\n",
      "Title: `Cheeseburger Meatloaf`, Similarity Score: 0.8246\n",
      "Title: `Cheeseburger Salad`, Similarity Score: 0.8160\n",
      "Title: `Hearty American Cheeseburger`, Similarity Score: 0.8006\n",
      "Title: `Cheeseburger Chowder`, Similarity Score: 0.7989\n",
      "\n",
      "Most similar recipes to 'fattoush':\n",
      "Title: `Simple Macaroni and Cheese`, Similarity Score: 0.0000\n",
      "Title: `Fresh Tomato and Cucumber Salad with Buttery Garlic Croutons`, Similarity Score: 0.0000\n",
      "Title: `Grilled Cheese, Apple, and Thyme Sandwich`, Similarity Score: 0.0000\n",
      "Title: `Poppin' Turkey Salad`, Similarity Score: 0.0000\n",
      "Title: `Chili - The Heat is On!`, Similarity Score: 0.0000\n"
     ]
    }
   ],
   "source": [
    "# Find recipes using the output embeddings model\n",
    "top_k = 5\n",
    "\n",
    "# Find the most similar recipes to the given queries\n",
    "query = \"cheeseburger\"\n",
    "embeddings = model_glove.encode(recipes)\n",
    "\n",
    "results = find_most_similar_items(model_glove, embeddings, query, top_k)\n",
    "print(f\"Most similar recipes to '{query}':\")\n",
    "for idx, score in results:\n",
    "    print(f\"Title: `{recipes[idx]}`, Similarity Score: {score:.4f}\")\n",
    "    \n",
    "print()\n",
    "\n",
    "query = \"fattoush\"\n",
    "results = find_most_similar_items(model_glove, embeddings, query, top_k)\n",
    "print(f\"Most similar recipes to '{query}':\")\n",
    "for idx, score in results:\n",
    "    print(f\"Title: `{recipes[idx]}`, Similarity Score: {score:.4f}\")\n",
    "    "
   ]
  },
  {
   "cell_type": "code",
   "execution_count": 85,
   "metadata": {},
   "outputs": [],
   "source": [
    "# Set up a regex tokenizer to split texts into words and punctuation\n",
    "my_regex = regex.compile(r\"\\w+|[^\\w\\s]+\")\n",
    "\n",
    "def create_vocab(texts: list[str], tokenizer, size: int = 30_000) -> Counter[str]:\n",
    "    \"\"\"Create a vocab from a list of texts.\"\"\"\n",
    "    counts = Counter()\n",
    "    for text in texts:\n",
    "        #tokens = tokenizer(text)\n",
    "        \n",
    "        #tokens = tokenizer.tokenize(text)\n",
    "        tokens = tokenizer.pre_tokenize_str(text.lower())\n",
    "        tokens = [token for token, _ in tokens]\n",
    "        #tokens = my_regex.findall(text.lower())\n",
    "        counts.update(tokens)\n",
    "    vocab = [word for word, _ in counts.most_common(size)]\n",
    "    return vocab"
   ]
  },
  {
   "cell_type": "code",
   "execution_count": 88,
   "metadata": {},
   "outputs": [
    {
     "name": "stderr",
     "output_type": "stream",
     "text": [
      "100%|██████████| 8/8 [00:08<00:00,  1.04s/it]\n"
     ]
    }
   ],
   "source": [
    "# Choose a Sentence Transformer model and a tokenizer\n",
    "model_name = \"BAAI/bge-small-en-v1.5\"\n",
    "tokenizer = Whitespace()\n",
    "\n",
    "# Create a custom vocab from the recipe titles\n",
    "vocab = create_vocab(recipes, tokenizer)\n",
    "\n",
    "# Distill a model2vec model using the Sentence Transformer model and the custom vocab\n",
    "model_custom = distill(model_name=model_name, vocabulary=vocab, pca_dims=256)"
   ]
  },
  {
   "cell_type": "code",
   "execution_count": 93,
   "metadata": {},
   "outputs": [
    {
     "name": "stdout",
     "output_type": "stream",
     "text": [
      "Most similar recipes to 'cheeseburger':\n",
      "Title: `Cheeseburger Salad`, Similarity Score: 0.9528\n",
      "Title: `Cheeseburger Casserole`, Similarity Score: 0.9030\n",
      "Title: `Cheeseburger Chowder`, Similarity Score: 0.8635\n",
      "Title: `Cheeseburger Pie`, Similarity Score: 0.8401\n",
      "Title: `Cheeseburger Meatloaf`, Similarity Score: 0.8184\n",
      "\n",
      "Most similar recipes to 'fattoush':\n",
      "Title: `Fattoush`, Similarity Score: 1.0000\n",
      "Title: `Fatoosh`, Similarity Score: 0.7488\n",
      "Title: `Lebanese Fattoush`, Similarity Score: 0.6344\n",
      "Title: `Arabic Fattoush Salad`, Similarity Score: 0.6108\n",
      "Title: `Fattoush (Lebanese Salad)`, Similarity Score: 0.5669\n"
     ]
    }
   ],
   "source": [
    "# Find recipes using the output embeddings model\n",
    "top_k = 5\n",
    "\n",
    "# Find the most similar recipes to the given queries\n",
    "query = \"cheeseburger\"\n",
    "embeddings = model_custom.encode(recipes)\n",
    "\n",
    "results = find_most_similar_items(model_custom, embeddings, query, top_k)\n",
    "print(f\"Most similar recipes to '{query}':\")\n",
    "for idx, score in results:\n",
    "    print(f\"Title: `{recipes[idx]}`, Similarity Score: {score:.4f}\")\n",
    "    \n",
    "print()\n",
    "\n",
    "query = \"fattoush\"\n",
    "results = find_most_similar_items(model_custom, embeddings, query, top_k)\n",
    "print(f\"Most similar recipes to '{query}':\")\n",
    "for idx, score in results:\n",
    "    print(f\"Title: `{recipes[idx]}`, Similarity Score: {score:.4f}\")\n",
    "    "
   ]
  }
 ],
 "metadata": {
  "kernelspec": {
   "display_name": "venv",
   "language": "python",
   "name": "python3"
  },
  "language_info": {
   "codemirror_mode": {
    "name": "ipython",
    "version": 3
   },
   "file_extension": ".py",
   "mimetype": "text/x-python",
   "name": "python",
   "nbconvert_exporter": "python",
   "pygments_lexer": "ipython3",
   "version": "3.10.11"
  }
 },
 "nbformat": 4,
 "nbformat_minor": 2
}
