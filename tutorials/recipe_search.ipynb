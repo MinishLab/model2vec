{
 "cells": [
  {
   "cell_type": "code",
   "execution_count": null,
   "metadata": {},
   "outputs": [],
   "source": [
    "# Install the necessary libraries\n",
    "!pip install numpy datasets scikit-learn model2vec\n",
    "    \n",
    "# Import the necessary libraries\n",
    "import regex\n",
    "from collections import Counter\n",
    "\n",
    "import numpy as np\n",
    "from datasets import load_dataset, Dataset\n",
    "from sklearn.metrics.pairwise import cosine_similarity\n",
    "\n",
    "from model2vec import StaticModel\n",
    "from model2vec.distill import distill"
   ]
  },
  {
   "cell_type": "code",
   "execution_count": 5,
   "metadata": {},
   "outputs": [
    {
     "name": "stdout",
     "output_type": "stream",
     "text": [
      "['title', 'url', 'category', 'author', 'description', 'rating', 'rating_count', 'review_count', 'ingredients', 'directions', 'prep_time', 'cook_time', 'total_time', 'servings', 'yields', 'calories', 'carbohydrates_g', 'sugars_g', 'fat_g', 'saturated_fat_g', 'cholesterol_mg', 'protein_g', 'dietary_fiber_g', 'sodium_mg', 'calories_from_fat', 'calcium_mg', 'iron_mg', 'magnesium_mg', 'potassium_mg', 'zinc_mg', 'phosphorus_mg', 'vitamin_a_iu_IU', 'niacin_equivalents_mg', 'vitamin_b6_mg', 'vitamin_c_mg', 'folate_mcg', 'thiamin_mg', 'riboflavin_mg', 'vitamin_e_iu_IU', 'vitamin_k_mcg', 'biotin_mcg', 'vitamin_b12_mcg', 'mono_fat_g', 'poly_fat_g', 'trans_fatty_acid_g', 'omega_3_fatty_acid_g', 'omega_6_fatty_acid_g', 'instructions_list', 'image']\n"
     ]
    }
   ],
   "source": [
    "# Load the recipe dataset\n",
    "dataset = load_dataset(\"Shengtao/recipe\", split=\"train\")\n",
    "# Show the column names\n",
    "print(dataset.column_names)\n",
    "# Take the title column as our recipes corpus\n",
    "recipes = dataset[\"title\"]"
   ]
  },
  {
   "cell_type": "code",
   "execution_count": 8,
   "metadata": {},
   "outputs": [],
   "source": [
    "# Define a function to find the most similar titles in a dataset to a given query\n",
    "def find_most_similar_items(model: StaticModel, dataset: list[str] , query: str , top_k=5) -> list[tuple[str, float]]:\n",
    "    \"\"\"\n",
    "    Finds the most similar items in a dataset to the given query using the specified model.\n",
    "\n",
    "    :param model: The model used to generate embeddings.\n",
    "    :param dataset: The dataset of recipe titles.\n",
    "    :param query: The query recipe title.\n",
    "    :param top_k: The number of most similar titles to return.\n",
    "    :return: A list of tuples containing the most similar titles and their cosine similarity scores.\n",
    "    \"\"\"\n",
    "    # Generate embeddings for the entire dataset\n",
    "    embeddings = model.encode(dataset)\n",
    "\n",
    "    # Generate embedding for the query\n",
    "    query_embedding = model.encode(query).reshape(1, -1)\n",
    "\n",
    "    # Calculate cosine similarities between the query and dataset\n",
    "    similarities = cosine_similarity(query_embedding, embeddings)[0]\n",
    "\n",
    "    # Get the indices of the most similar items (sorted in descending order)\n",
    "    most_similar_indices = np.argsort(similarities)[::-1]\n",
    "\n",
    "    # Get the top-k most similar titles and their scores\n",
    "    most_similar_titles = [dataset[i] for i in most_similar_indices[:top_k]]\n",
    "    most_similar_scores = [similarities[i] for i in most_similar_indices[:top_k]]\n",
    "\n",
    "    # Combine titles and scores into a list of tuples\n",
    "    return list(zip(most_similar_titles, most_similar_scores))"
   ]
  },
  {
   "cell_type": "code",
   "execution_count": null,
   "metadata": {},
   "outputs": [],
   "source": [
    "# Load the M2V output model from the HuggingFace hub\n",
    "model_name = \"minishlab/M2V_base_output\"\n",
    "model_output = StaticModel.from_pretrained(model_name)"
   ]
  },
  {
   "cell_type": "code",
   "execution_count": 19,
   "metadata": {},
   "outputs": [
    {
     "name": "stdout",
     "output_type": "stream",
     "text": [
      "Most similar recipes to 'cheeseburger':\n",
      "Title: Double Cheeseburger, Similarity Score: 0.9028\n",
      "Title: Cheeseburger Chowder, Similarity Score: 0.8574\n",
      "Title: Cheeseburger Sliders, Similarity Score: 0.8413\n",
      "Title: Cheeseburger Salad, Similarity Score: 0.8384\n",
      "Title: Cheeseburger Soup I, Similarity Score: 0.8298\n",
      "\n",
      "Most similar recipes to 'fattoush':\n",
      "Title: Fattoush, Similarity Score: 1.0000\n",
      "Title: Lebanese Fattoush, Similarity Score: 0.8370\n",
      "Title: Aunty Terese's Fattoush, Similarity Score: 0.7630\n",
      "Title: Arabic Fattoush Salad, Similarity Score: 0.7588\n",
      "Title: Authentic Lebanese Fattoush, Similarity Score: 0.7584\n"
     ]
    }
   ],
   "source": [
    "# Find recipes using the output embeddings model\n",
    "top_k = 5\n",
    "\n",
    "# Find the most similar recipes to the given queries\n",
    "query = \"cheeseburger\"\n",
    "results = find_most_similar_items(model_output, recipes, query, top_k)\n",
    "print(f\"Most similar recipes to '{query}':\")\n",
    "for title, score in results:\n",
    "    print(f\"Title: {title}, Similarity Score: {score:.4f}\")\n",
    "    \n",
    "print()\n",
    "\n",
    "query = \"fattoush\"\n",
    "results = find_most_similar_items(model_output, recipes, query, top_k)\n",
    "print(f\"Most similar recipes to '{query}':\")\n",
    "for title, score in results:\n",
    "    print(f\"Title: {title}, Similarity Score: {score:.4f}\")\n",
    "    "
   ]
  },
  {
   "cell_type": "code",
   "execution_count": null,
   "metadata": {},
   "outputs": [],
   "source": [
    "# Load the M2V glove model from the HuggingFace hub\n",
    "model_name = \"minishlab/M2V_base_glove\"\n",
    "model_glove = StaticModel.from_pretrained(model_name)"
   ]
  },
  {
   "cell_type": "code",
   "execution_count": 20,
   "metadata": {},
   "outputs": [
    {
     "name": "stdout",
     "output_type": "stream",
     "text": [
      "Most similar recipes to 'cheeseburger':\n",
      "Title: Double Cheeseburger, Similarity Score: 0.8744\n",
      "Title: Cheeseburger Meatloaf, Similarity Score: 0.8246\n",
      "Title: Cheeseburger Salad, Similarity Score: 0.8160\n",
      "Title: Hearty American Cheeseburger, Similarity Score: 0.8006\n",
      "Title: Cheeseburger Chowder, Similarity Score: 0.7989\n",
      "\n",
      "Most similar recipes to 'fattoush':\n",
      "Title: Zucchini and Onion Pancake, Similarity Score: 0.0000\n",
      "Title: Crab Ball, Similarity Score: 0.0000\n",
      "Title: Shrimp Eggs Foo Yung, Similarity Score: 0.0000\n",
      "Title: Thai Shrimp and Snow Peas, Similarity Score: 0.0000\n",
      "Title: Charbroiled Salmon, Similarity Score: 0.0000\n"
     ]
    }
   ],
   "source": [
    "# Find recipes using the output embeddings model\n",
    "top_k = 5\n",
    "\n",
    "# Find the most similar recipes to the given queries\n",
    "query = \"cheeseburger\"\n",
    "results = find_most_similar_items(model_glove, recipes, query, top_k)\n",
    "print(f\"Most similar recipes to '{query}':\")\n",
    "for title, score in results:\n",
    "    print(f\"Title: {title}, Similarity Score: {score:.4f}\")\n",
    "    \n",
    "print()\n",
    "\n",
    "# NOTE: 'fattoush' is Out-Of-Vocabulary (OOV) for the GloVe model and will return a zero vector.\n",
    "query = \"fattoush\"\n",
    "results = find_most_similar_items(model_glove, recipes, query, top_k)\n",
    "print(f\"Most similar recipes to '{query}':\")\n",
    "for title, score in results:\n",
    "    print(f\"Title: {title}, Similarity Score: {score:.4f}\")\n",
    "    "
   ]
  },
  {
   "cell_type": "code",
   "execution_count": 23,
   "metadata": {},
   "outputs": [],
   "source": [
    "# Set up a regex tokenizer to split texts into words and punctuation\n",
    "my_regex = regex.compile(r\"\\w+|[^\\w\\s]+\")\n",
    "\n",
    "# Function to tokenize texts with a progress bar\n",
    "def tokenize_texts(texts: list[str]) -> list[str]:\n",
    "    \"\"\"Tokenizes a list of texts using a regex tokenizer.\"\"\"\n",
    "    all_tokens = []\n",
    "    for text in texts:\n",
    "        tokens = my_regex.findall(text.lower())\n",
    "        all_tokens.extend(tokens)\n",
    "    return all_tokens"
   ]
  },
  {
   "cell_type": "code",
   "execution_count": 24,
   "metadata": {},
   "outputs": [],
   "source": [
    "# Tokenize the recipe titles\n",
    "tokens = tokenize_texts(recipes)\n",
    "\n",
    "# Count the frequency of each token\n",
    "token_counts = Counter()\n",
    "batch_size = 10000 \n",
    "for i in range(0, len(tokens), batch_size):\n",
    "    batch = tokens[i:i+batch_size]\n",
    "    token_counts.update(batch)\n",
    "\n",
    "# Define vocabulary size and get the most common tokens\n",
    "vocab_size = 30000\n",
    "vocab = [word for word, count in token_counts.most_common(vocab_size)]"
   ]
  },
  {
   "cell_type": "code",
   "execution_count": 26,
   "metadata": {},
   "outputs": [
    {
     "name": "stderr",
     "output_type": "stream",
     "text": [
      "100%|██████████| 8/8 [00:08<00:00,  1.04s/it]\n"
     ]
    }
   ],
   "source": [
    "# Choose a Sentence Transformer model\n",
    "model_name = \"BAAI/bge-small-en-v1.5\"\n",
    "\n",
    "# Distill a model2vec model using the Sentence Transformer model and the custom vocab\n",
    "model_custom = distill(model_name=model_name, vocabulary=vocab, pca_dims=256)"
   ]
  },
  {
   "cell_type": "code",
   "execution_count": 27,
   "metadata": {},
   "outputs": [
    {
     "name": "stdout",
     "output_type": "stream",
     "text": [
      "Most similar recipes to 'cheeseburger':\n",
      "Title: Cheeseburger Salad, Similarity Score: 0.9528\n",
      "Title: Cheeseburger Casserole, Similarity Score: 0.9030\n",
      "Title: Cheeseburger Chowder, Similarity Score: 0.8635\n",
      "Title: Cheeseburger Pie, Similarity Score: 0.8401\n",
      "Title: Cheeseburger Meatloaf, Similarity Score: 0.8184\n",
      "\n",
      "Most similar recipes to 'fattoush':\n",
      "Title: Fattoush, Similarity Score: 1.0000\n",
      "Title: Fatoosh, Similarity Score: 0.7488\n",
      "Title: Lebanese Fattoush, Similarity Score: 0.6344\n",
      "Title: Arabic Fattoush Salad, Similarity Score: 0.6108\n",
      "Title: Fattoush (Lebanese Salad), Similarity Score: 0.5669\n"
     ]
    }
   ],
   "source": [
    "# Find recipes using the output embeddings model\n",
    "top_k = 5\n",
    "\n",
    "# Find the most similar recipes to the given queries\n",
    "query = \"cheeseburger\"\n",
    "results = find_most_similar_items(model_custom, recipes, query, top_k)\n",
    "print(f\"Most similar recipes to '{query}':\")\n",
    "for title, score in results:\n",
    "    print(f\"Title: {title}, Similarity Score: {score:.4f}\")\n",
    "    \n",
    "print()\n",
    "\n",
    "#'fattoush' is now in the custom vocabulary and will return related recipes.\n",
    "query = \"fattoush\"\n",
    "results = find_most_similar_items(model_custom, recipes, query, top_k)\n",
    "print(f\"Most similar recipes to '{query}':\")\n",
    "for title, score in results:\n",
    "    print(f\"Title: {title}, Similarity Score: {score:.4f}\")"
   ]
  }
 ],
 "metadata": {
  "kernelspec": {
   "display_name": "venv",
   "language": "python",
   "name": "python3"
  },
  "language_info": {
   "codemirror_mode": {
    "name": "ipython",
    "version": 3
   },
   "file_extension": ".py",
   "mimetype": "text/x-python",
   "name": "python",
   "nbconvert_exporter": "python",
   "pygments_lexer": "ipython3",
   "version": "3.10.11"
  }
 },
 "nbformat": 4,
 "nbformat_minor": 2
}
