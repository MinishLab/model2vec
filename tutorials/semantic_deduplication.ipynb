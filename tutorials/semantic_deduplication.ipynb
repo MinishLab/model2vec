{
 "cells": [
  {
   "cell_type": "markdown",
   "metadata": {},
   "source": [
    "asd"
   ]
  },
  {
   "cell_type": "code",
   "execution_count": 1,
   "metadata": {},
   "outputs": [
    {
     "name": "stdout",
     "output_type": "stream",
     "text": [
      "Requirement already satisfied: datasets in /Users/thomasvandongen/Recommenders/repositories/recommenders-shared-tools/venv/lib/python3.10/site-packages (3.0.0)\n",
      "Requirement already satisfied: model2vec in /Users/thomasvandongen/Recommenders/repositories/recommenders-shared-tools/venv/lib/python3.10/site-packages (0.2.2)\n",
      "Requirement already satisfied: reach in /Users/thomasvandongen/Recommenders/repositories/recommenders-shared-tools/venv/lib/python3.10/site-packages (4.1.1)\n",
      "Requirement already satisfied: numpy in /Users/thomasvandongen/Recommenders/repositories/recommenders-shared-tools/venv/lib/python3.10/site-packages (1.26.4)\n",
      "Requirement already satisfied: tqdm in /Users/thomasvandongen/Recommenders/repositories/recommenders-shared-tools/venv/lib/python3.10/site-packages (4.66.5)\n",
      "Requirement already satisfied: filelock in /Users/thomasvandongen/Recommenders/repositories/recommenders-shared-tools/venv/lib/python3.10/site-packages (from datasets) (3.13.1)\n",
      "Requirement already satisfied: pyarrow>=15.0.0 in /Users/thomasvandongen/Recommenders/repositories/recommenders-shared-tools/venv/lib/python3.10/site-packages (from datasets) (17.0.0)\n",
      "Requirement already satisfied: dill<0.3.9,>=0.3.0 in /Users/thomasvandongen/Recommenders/repositories/recommenders-shared-tools/venv/lib/python3.10/site-packages (from datasets) (0.3.8)\n",
      "Requirement already satisfied: pandas in /Users/thomasvandongen/Recommenders/repositories/recommenders-shared-tools/venv/lib/python3.10/site-packages (from datasets) (2.2.0)\n",
      "Requirement already satisfied: requests>=2.32.2 in /Users/thomasvandongen/Recommenders/repositories/recommenders-shared-tools/venv/lib/python3.10/site-packages (from datasets) (2.32.3)\n",
      "Requirement already satisfied: xxhash in /Users/thomasvandongen/Recommenders/repositories/recommenders-shared-tools/venv/lib/python3.10/site-packages (from datasets) (3.5.0)\n",
      "Requirement already satisfied: multiprocess in /Users/thomasvandongen/Recommenders/repositories/recommenders-shared-tools/venv/lib/python3.10/site-packages (from datasets) (0.70.16)\n",
      "Requirement already satisfied: fsspec<=2024.6.1,>=2023.1.0 in /Users/thomasvandongen/Recommenders/repositories/recommenders-shared-tools/venv/lib/python3.10/site-packages (from fsspec[http]<=2024.6.1,>=2023.1.0->datasets) (2024.2.0)\n",
      "Requirement already satisfied: aiohttp in /Users/thomasvandongen/Recommenders/repositories/recommenders-shared-tools/venv/lib/python3.10/site-packages (from datasets) (3.9.3)\n",
      "Requirement already satisfied: huggingface-hub>=0.22.0 in /Users/thomasvandongen/Recommenders/repositories/recommenders-shared-tools/venv/lib/python3.10/site-packages (from datasets) (0.25.1)\n",
      "Requirement already satisfied: packaging in /Users/thomasvandongen/Recommenders/repositories/recommenders-shared-tools/venv/lib/python3.10/site-packages (from datasets) (23.2)\n",
      "Requirement already satisfied: pyyaml>=5.1 in /Users/thomasvandongen/Recommenders/repositories/recommenders-shared-tools/venv/lib/python3.10/site-packages (from datasets) (6.0.1)\n",
      "Requirement already satisfied: click in /Users/thomasvandongen/Recommenders/repositories/recommenders-shared-tools/venv/lib/python3.10/site-packages (from model2vec) (8.1.7)\n",
      "Requirement already satisfied: rich in /Users/thomasvandongen/Recommenders/repositories/recommenders-shared-tools/venv/lib/python3.10/site-packages (from model2vec) (13.7.0)\n",
      "Requirement already satisfied: typer in /Users/thomasvandongen/Recommenders/repositories/recommenders-shared-tools/venv/lib/python3.10/site-packages (from model2vec) (0.12.5)\n",
      "Requirement already satisfied: transformers in /Users/thomasvandongen/Recommenders/repositories/recommenders-shared-tools/venv/lib/python3.10/site-packages (from model2vec) (4.44.2)\n",
      "Requirement already satisfied: torch in /Users/thomasvandongen/Recommenders/repositories/recommenders-shared-tools/venv/lib/python3.10/site-packages (from model2vec) (2.2.0)\n",
      "Requirement already satisfied: tokenizers in /Users/thomasvandongen/Recommenders/repositories/recommenders-shared-tools/venv/lib/python3.10/site-packages (from model2vec) (0.19.1)\n",
      "Requirement already satisfied: scikit-learn in /Users/thomasvandongen/Recommenders/repositories/recommenders-shared-tools/venv/lib/python3.10/site-packages (from model2vec) (1.5.1)\n",
      "Requirement already satisfied: setuptools in /Users/thomasvandongen/Recommenders/repositories/recommenders-shared-tools/venv/lib/python3.10/site-packages (from model2vec) (69.2.0)\n",
      "Requirement already satisfied: aiosignal>=1.1.2 in /Users/thomasvandongen/Recommenders/repositories/recommenders-shared-tools/venv/lib/python3.10/site-packages (from aiohttp->datasets) (1.3.1)\n",
      "Requirement already satisfied: attrs>=17.3.0 in /Users/thomasvandongen/Recommenders/repositories/recommenders-shared-tools/venv/lib/python3.10/site-packages (from aiohttp->datasets) (23.2.0)\n",
      "Requirement already satisfied: frozenlist>=1.1.1 in /Users/thomasvandongen/Recommenders/repositories/recommenders-shared-tools/venv/lib/python3.10/site-packages (from aiohttp->datasets) (1.4.1)\n",
      "Requirement already satisfied: multidict<7.0,>=4.5 in /Users/thomasvandongen/Recommenders/repositories/recommenders-shared-tools/venv/lib/python3.10/site-packages (from aiohttp->datasets) (6.0.5)\n",
      "Requirement already satisfied: yarl<2.0,>=1.0 in /Users/thomasvandongen/Recommenders/repositories/recommenders-shared-tools/venv/lib/python3.10/site-packages (from aiohttp->datasets) (1.9.4)\n",
      "Requirement already satisfied: async-timeout<5.0,>=4.0 in /Users/thomasvandongen/Recommenders/repositories/recommenders-shared-tools/venv/lib/python3.10/site-packages (from aiohttp->datasets) (4.0.3)\n",
      "Requirement already satisfied: typing-extensions>=3.7.4.3 in /Users/thomasvandongen/Recommenders/repositories/recommenders-shared-tools/venv/lib/python3.10/site-packages (from huggingface-hub>=0.22.0->datasets) (4.9.0)\n",
      "Requirement already satisfied: charset-normalizer<4,>=2 in /Users/thomasvandongen/Recommenders/repositories/recommenders-shared-tools/venv/lib/python3.10/site-packages (from requests>=2.32.2->datasets) (3.3.2)\n",
      "Requirement already satisfied: idna<4,>=2.5 in /Users/thomasvandongen/Recommenders/repositories/recommenders-shared-tools/venv/lib/python3.10/site-packages (from requests>=2.32.2->datasets) (3.6)\n",
      "Requirement already satisfied: urllib3<3,>=1.21.1 in /Users/thomasvandongen/Recommenders/repositories/recommenders-shared-tools/venv/lib/python3.10/site-packages (from requests>=2.32.2->datasets) (1.26.18)\n",
      "Requirement already satisfied: certifi>=2017.4.17 in /Users/thomasvandongen/Recommenders/repositories/recommenders-shared-tools/venv/lib/python3.10/site-packages (from requests>=2.32.2->datasets) (2024.2.2)\n",
      "Requirement already satisfied: python-dateutil>=2.8.2 in /Users/thomasvandongen/Recommenders/repositories/recommenders-shared-tools/venv/lib/python3.10/site-packages (from pandas->datasets) (2.8.2)\n",
      "Requirement already satisfied: pytz>=2020.1 in /Users/thomasvandongen/Recommenders/repositories/recommenders-shared-tools/venv/lib/python3.10/site-packages (from pandas->datasets) (2024.1)\n",
      "Requirement already satisfied: tzdata>=2022.7 in /Users/thomasvandongen/Recommenders/repositories/recommenders-shared-tools/venv/lib/python3.10/site-packages (from pandas->datasets) (2024.1)\n",
      "Requirement already satisfied: markdown-it-py>=2.2.0 in /Users/thomasvandongen/Recommenders/repositories/recommenders-shared-tools/venv/lib/python3.10/site-packages (from rich->model2vec) (3.0.0)\n",
      "Requirement already satisfied: pygments<3.0.0,>=2.13.0 in /Users/thomasvandongen/Recommenders/repositories/recommenders-shared-tools/venv/lib/python3.10/site-packages (from rich->model2vec) (2.17.2)\n",
      "Requirement already satisfied: scipy>=1.6.0 in /Users/thomasvandongen/Recommenders/repositories/recommenders-shared-tools/venv/lib/python3.10/site-packages (from scikit-learn->model2vec) (1.12.0)\n",
      "Requirement already satisfied: joblib>=1.2.0 in /Users/thomasvandongen/Recommenders/repositories/recommenders-shared-tools/venv/lib/python3.10/site-packages (from scikit-learn->model2vec) (1.4.2)\n",
      "Requirement already satisfied: threadpoolctl>=3.1.0 in /Users/thomasvandongen/Recommenders/repositories/recommenders-shared-tools/venv/lib/python3.10/site-packages (from scikit-learn->model2vec) (3.5.0)\n",
      "Requirement already satisfied: sympy in /Users/thomasvandongen/Recommenders/repositories/recommenders-shared-tools/venv/lib/python3.10/site-packages (from torch->model2vec) (1.12)\n",
      "Requirement already satisfied: networkx in /Users/thomasvandongen/Recommenders/repositories/recommenders-shared-tools/venv/lib/python3.10/site-packages (from torch->model2vec) (3.2.1)\n",
      "Requirement already satisfied: jinja2 in /Users/thomasvandongen/Recommenders/repositories/recommenders-shared-tools/venv/lib/python3.10/site-packages (from torch->model2vec) (3.1.2)\n",
      "Requirement already satisfied: regex!=2019.12.17 in /Users/thomasvandongen/Recommenders/repositories/recommenders-shared-tools/venv/lib/python3.10/site-packages (from transformers->model2vec) (2023.12.25)\n",
      "Requirement already satisfied: safetensors>=0.4.1 in /Users/thomasvandongen/Recommenders/repositories/recommenders-shared-tools/venv/lib/python3.10/site-packages (from transformers->model2vec) (0.4.2)\n",
      "Requirement already satisfied: shellingham>=1.3.0 in /Users/thomasvandongen/Recommenders/repositories/recommenders-shared-tools/venv/lib/python3.10/site-packages (from typer->model2vec) (1.5.4)\n",
      "Requirement already satisfied: mdurl~=0.1 in /Users/thomasvandongen/Recommenders/repositories/recommenders-shared-tools/venv/lib/python3.10/site-packages (from markdown-it-py>=2.2.0->rich->model2vec) (0.1.2)\n",
      "Requirement already satisfied: six>=1.5 in /Users/thomasvandongen/Recommenders/repositories/recommenders-shared-tools/venv/lib/python3.10/site-packages (from python-dateutil>=2.8.2->pandas->datasets) (1.16.0)\n",
      "Requirement already satisfied: MarkupSafe>=2.0 in /Users/thomasvandongen/Recommenders/repositories/recommenders-shared-tools/venv/lib/python3.10/site-packages (from jinja2->torch->model2vec) (2.1.5)\n",
      "Requirement already satisfied: mpmath>=0.19 in /Users/thomasvandongen/Recommenders/repositories/recommenders-shared-tools/venv/lib/python3.10/site-packages (from sympy->torch->model2vec) (1.3.0)\n"
     ]
    },
    {
     "name": "stderr",
     "output_type": "stream",
     "text": [
      "/Users/thomasvandongen/Recommenders/repositories/recommenders-shared-tools/venv/lib/python3.10/site-packages/tqdm/auto.py:21: TqdmWarning: IProgress not found. Please update jupyter and ipywidgets. See https://ipywidgets.readthedocs.io/en/stable/user_install.html\n",
      "  from .autonotebook import tqdm as notebook_tqdm\n"
     ]
    }
   ],
   "source": [
    "!pip install datasets model2vec reach numpy tqdm \n",
    "from datasets import load_dataset\n",
    "from model2vec import StaticModel\n",
    "from reach import Reach\n",
    "import numpy as np\n",
    "from tqdm import tqdm\n",
    "from time import perf_counter"
   ]
  },
  {
   "cell_type": "markdown",
   "metadata": {},
   "source": [
    "asdasd"
   ]
  },
  {
   "cell_type": "code",
   "execution_count": null,
   "metadata": {},
   "outputs": [],
   "source": []
  },
  {
   "cell_type": "code",
   "execution_count": 11,
   "metadata": {},
   "outputs": [],
   "source": [
    "# Load the model and dataset\n",
    "model = StaticModel.from_pretrained(\"minishlab/M2V_base_output\")\n",
    "ds = load_dataset(\"ag_news\")[\"train\"]\n",
    "texts = ds['text']"
   ]
  },
  {
   "cell_type": "code",
   "execution_count": 13,
   "metadata": {},
   "outputs": [
    {
     "data": {
      "text/plain": [
       "120000"
      ]
     },
     "execution_count": 13,
     "metadata": {},
     "output_type": "execute_result"
    }
   ],
   "source": [
    "#texts = [\"asd\", \"asd\", \"tads\", \"qwea\"]\n",
    "seen = set()\n",
    "deduplicated_text_indices = np.array([i for i, text in enumerate(texts) if text not in seen and not seen.add(text)])\n",
    "len(deduplicated_text_indices)"
   ]
  },
  {
   "cell_type": "code",
   "execution_count": 4,
   "metadata": {},
   "outputs": [
    {
     "name": "stderr",
     "output_type": "stream",
     "text": [
      "100%|██████████| 118/118 [00:02<00:00, 47.80it/s]\n"
     ]
    }
   ],
   "source": [
    "# Encode texts into embeddings\n",
    "embeddings = model.encode(texts, show_progressbar=True)\n",
    "embedding_matrix = np.vstack(embeddings)"
   ]
  },
  {
   "cell_type": "code",
   "execution_count": null,
   "metadata": {},
   "outputs": [],
   "source": [
    "def deduplicate(embedding_matrix: np.ndarray, threshold: float, batch_size: int = 1024) -> np.ndarray:\n",
    "    \"\"\"\n",
    "    Deduplicate embeddings and return the deduplicated indices.\n",
    "    \n",
    "    :param embedding_matrix: The embeddings to deduplicate.\n",
    "    :param threshold: The similarity threshold to use for deduplication.\n",
    "    :param batch_size: The batch size to use for similarity computation.\n",
    "    :return: The deduplicated indices.\n",
    "    \"\"\"\n",
    "    reach = Reach(vectors=embedding_matrix, items=[str(i) for i in range(len(embedding_matrix))])\n",
    "    \n",
    "    # Find similar documents\n",
    "    similarity_cutoff = 1 - threshold\n",
    "    is_duplicate = np.zeros(len(embedding_matrix), dtype=bool)\n",
    "    \n",
    "    results = reach.threshold(\n",
    "        [str(i) for i in range(len(embedding_matrix))], \n",
    "        threshold=similarity_cutoff, \n",
    "        batch_size=batch_size, \n",
    "        show_progressbar=True\n",
    "    )\n",
    "    \n",
    "    # Process duplicates\n",
    "    for i, similar_items in tqdm(enumerate(results), total=len(results)):\n",
    "        if is_duplicate[i]:\n",
    "            continue  # Skip already marked duplicates\n",
    "\n",
    "        similar_indices = [int(item[0]) for item in similar_items if int(item[0]) != i]\n",
    "        is_duplicate[similar_indices] = True\n",
    "\n",
    "    deduplicated_indices = np.where(~is_duplicate)[0]\n",
    "\n",
    "    return deduplicated_indices"
   ]
  },
  {
   "cell_type": "code",
   "execution_count": null,
   "metadata": {},
   "outputs": [],
   "source": [
    "deduplicated_indices = deduplicate(embedding_matrix, threshold=0.9)\n",
    "# Get deduplicated documents and embeddings\n",
    "deduplicated_docs = [texts[i] for i in deduplicated_indices]\n",
    "deduplicated_embeddings = embedding_matrix[deduplicated_indices]"
   ]
  }
 ],
 "metadata": {
  "kernelspec": {
   "display_name": "venv",
   "language": "python",
   "name": "python3"
  },
  "language_info": {
   "codemirror_mode": {
    "name": "ipython",
    "version": 3
   },
   "file_extension": ".py",
   "mimetype": "text/x-python",
   "name": "python",
   "nbconvert_exporter": "python",
   "pygments_lexer": "ipython3",
   "version": "3.10.11"
  }
 },
 "nbformat": 4,
 "nbformat_minor": 2
}
