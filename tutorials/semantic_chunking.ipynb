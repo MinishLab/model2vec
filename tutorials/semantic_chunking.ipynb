{
 "cells": [
  {
   "cell_type": "markdown",
   "metadata": {},
   "source": [
    "**Semantic Chunking with Chonkie and Model2Vec**\n",
    "\n",
    "Semantic chunking is a task of identifying the semantic boundaries of a piece of text. In this tutorial, we will use the [Chonkie](https://github.com/bhavnicksm/chonkie) library to perform semantic chunking on the book War and Peace. Chonkie is a library that provides a lightweight and fast solution to semantic chunking using pre-trained models. It supports our [potion models](https://huggingface.co/collections/minishlab/potion-6721e0abd4ea41881417f062) out of the box, which we will be using in this tutorial.\n",
    "\n",
    "After chunking our text, we will be using [Vicinity](https://github.com/MinishLab/vicinity), a lightweight nearest neighbors library, to create an index of our chunks and query them."
   ]
  },
  {
   "cell_type": "code",
   "execution_count": null,
   "metadata": {},
   "outputs": [],
   "source": [
    "# Install the necessary libraries\n",
    "!pip install datasets model2vec numpy tqdm vicinity\n",
    "\n",
    "# Import the necessary libraries\n",
    "import random \n",
    "import re\n",
    "import requests\n",
    "from time import perf_counter\n",
    "from chonkie import SDPMChunker\n",
    "from model2vec import StaticModel\n",
    "from vicinity import Vicinity\n",
    "\n",
    "random.seed(0)"
   ]
  },
  {
   "cell_type": "markdown",
   "metadata": {},
   "source": [
    "**Loading and pre-processing**\n",
    "\n",
    "First, we will download War and Peace and apply some basic pre-processing."
   ]
  },
  {
   "cell_type": "code",
   "execution_count": null,
   "metadata": {},
   "outputs": [],
   "source": [
    "# URL for War and Peace on Project Gutenberg\n",
    "url = \"https://www.gutenberg.org/files/2600/2600-0.txt\"\n",
    "\n",
    "# Download the book\n",
    "response = requests.get(url)\n",
    "book_text = response.text\n",
    "\n",
    "def preprocess_text(text: str, min_length: int = 5):\n",
    "    \"\"\"Basic text preprocessing function.\"\"\"\n",
    "    text = text.replace(\"\\n\", \" \")\n",
    "    text = text.replace(\"\\r\", \" \")\n",
    "    sentences = re.findall(r'[^.!?]*[.!?]', text)\n",
    "    # Filter out sentences shorter than the specified minimum length\n",
    "    filtered_sentences = [sentence.strip() for sentence in sentences if len(sentence.split()) >= min_length]\n",
    "    # Recombine the filtered sentences\n",
    "    return ' '.join(filtered_sentences)\n",
    "\n",
    "# Preprocess the text\n",
    "book_text = preprocess_text(book_text)"
   ]
  },
  {
   "cell_type": "markdown",
   "metadata": {},
   "source": [
    "**Chunking with Chonkie**\n",
    "\n",
    "Next, we will use Chonkie to chunk our text into semantic chunks."
   ]
  },
  {
   "cell_type": "code",
   "execution_count": 53,
   "metadata": {},
   "outputs": [
    {
     "name": "stdout",
     "output_type": "stream",
     "text": [
      "Number of chunks: 4790\n",
      "Time taken: 2.1546314590086695\n"
     ]
    }
   ],
   "source": [
    "# Initialize a SemanticChunker from Chonkie with the potion-base-8M model\n",
    "chunker = SDPMChunker(\n",
    "    embedding_model=\"minishlab/potion-base-8M\",\n",
    "    similarity_threshold=0.3,\n",
    "    skip_window=5,\n",
    ")\n",
    "\n",
    "# Chunk the text\n",
    "time = perf_counter()\n",
    "chunks = chunker.chunk(book_text)\n",
    "print(f\"Number of chunks: {len(chunks)}\")\n",
    "print(f\"Time taken: {perf_counter() - time}\")"
   ]
  },
  {
   "cell_type": "markdown",
   "metadata": {},
   "source": [
    "And that's it, we chunked the entirety of War and Peace in ~2 seconds. Not bad! Let's look at some example chunks."
   ]
  },
  {
   "cell_type": "code",
   "execution_count": 64,
   "metadata": {},
   "outputs": [
    {
     "name": "stdout",
     "output_type": "stream",
     "text": [
      " Having disentangled his leg, he rose. \n",
      "\n",
      " Prince Andrew arrived at Bennigsen’s quarters—a country gentleman’s  house of moderate size, situated on the very banks of the river. Neither  Bennigsen nor the Emperor was there, but Chernýshev, the Emperor’s  aide-de-camp, received Bolkónski and informed him that the Emperor,  accompanied by General Bennigsen and Marquis Paulucci, had gone a second  time that day to inspect the fortifications of the Drissa camp, of the  suitability of which serious doubts were beginning to be felt. Chernýshev was sitting at a window in the first room with a French novel  in his hand. This room had probably been a music room; there was still  an organ in it on which some rugs were piled, and in one corner stood  the folding bedstead of Bennigsen’s adjutant. This adjutant was also  there and sat dozing on the rolled-up bedding, evidently exhausted by  work or by feasting. Two doors led from the room, one straight on into  what had been the drawing room, and another, on the right, to the study. Through the first door came the sound of voices conversing in German  and occasionally in French. In that drawing room were gathered, by  the Emperor’s wish, not a military council (the Emperor preferred  indefiniteness), but certain persons whose opinions he wished to know in  view of the impending difficulties. It was not a council of war, but,  as it were, a council to elucidate certain questions for the Emperor  personally. To this semicouncil had been invited the Swedish General  Armfeldt, Adjutant General Wolzogen, Wintzingerode (whom Napoleon had  referred to as a renegade French subject), Michaud, Toll, Count Stein  who was not a military man at all, and Pfuel himself, who, as Prince  Andrew had heard, was the mainspring of the whole affair. Prince Andrew  had an opportunity of getting a good look at him, for Pfuel arrived soon  after himself and, in passing through to the drawing room, stopped a  minute to speak to Chernýshev. At first sight, Pfuel, in his ill-made uniform of a Russian general,  which fitted him badly like a fancy costume, seemed familiar to Prince  Andrew, though he saw him now for the first time. \n",
      "\n",
      " She got up quickly just as Nicholas entered, almost ran to the door  which was hidden by curtains, struck her head against it, and rushed  from the room with a moan either of pain or sorrow. Pierre gazed at the door through which she had disappeared and did not  understand why he suddenly felt all alone in the world. Princess Mary roused him from his abstraction by drawing his attention  to her nephew who had entered the room. At that moment of emotional tenderness young Nicholas’ face, which  resembled his father’s, affected Pierre so much that when he had kissed  the boy he got up quickly, took out his handkerchief, and went to the  window. He wished to take leave of Princess Mary, but she would not let  him go. “No, Natásha and I sometimes don’t go to sleep till after two, so please  don’t go. Go downstairs, we will come immediately. ”    Before Pierre left the room Princess Mary told him: “This is the first  time she has talked of him like that. ”            CHAPTER XVII    Pierre was shown into the large, brightly lit dining room; a few minutes  later he heard footsteps and Princess Mary entered with Natásha. Natásha  was calm, though a severe and grave expression had again settled on her  face. They all three of them now experienced that feeling of awkwardness  which usually follows after a serious and heartfelt talk. It is  impossible to go back to the same conversation, to talk of trifles is  awkward, and yet the desire to speak is there and silence seems like  affectation. They went silently to table. The footmen drew back the  chairs and pushed them up again. Pierre unfolded his cold table napkin  and, resolving to break the silence, looked at Natásha and at Princess  Mary. They had evidently both formed the same resolution; the eyes of  both shone with satisfaction and a confession that besides sorrow life  also has joy. “Do you take vodka, Count? ” asked Princess Mary, and those words  suddenly banished the shadows of the past. “Now tell us about yourself,”  said she. “One hears such improbable wonders about you. ”    “Yes,” replied Pierre with the smile of mild irony now habitual to him. “They even tell me wonders I myself never dreamed of! Mary Abrámovna  invited me to her house and kept telling me what had happened, or ought  to have happened, to me. \n",
      "\n",
      " ” Murat again interrupted him, “with all my heart I  wish the Emperors may arrange the affair between them, and that the war  begun by no wish of mine may finish as quickly as possible! ” said he,  in the tone of a servant who wants to remain good friends with another  despite a quarrel between their masters. And he went on to inquiries about the Grand Duke and the state of his  health, and to reminiscences of the gay and amusing times he had spent  with him in Naples. Then suddenly, as if remembering his royal dignity,  Murat solemnly drew himself up, assumed the pose in which he had stood  at his coronation, and, waving his right arm, said:    “I won’t detain you longer, General. I wish success to your mission,”  and with his embroidered red mantle, his flowing feathers, and his  glittering ornaments, he rejoined his suite who were respectfully  awaiting him. Balashëv rode on, supposing from Murat’s words that he would very soon  be brought before Napoleon himself. But instead of that, at the next  village the sentinels of Davout’s infantry corps detained him as  the pickets of the vanguard had done, and an adjutant of the corps  commander, who was fetched, conducted him into the village to Marshal  Davout. CHAPTER V    Davout was to Napoleon what Arakchéev was to Alexander—though not a  coward like Arakchéev, he was as precise, as cruel, and as unable to  express his devotion to his monarch except by cruelty. In the organism of states such men are necessary, as wolves are  necessary in the organism of nature, and they always exist, always  appear and hold their own, however incongruous their presence and their  proximity to the head of the government may be. This inevitability alone  can explain how the cruel Arakchéev, who tore out a grenadier’s mustache  with his own hands, whose weak nerves rendered him unable to face  danger, and who was neither an educated man nor a courtier, was able to  maintain his powerful position with Alexander, whose own character was  chivalrous, noble, and gentle. Balashëv found Davout seated on a barrel in the shed of a peasant’s hut,  writing—he was auditing accounts. \n",
      "\n",
      " “I expect you have guessed that Prince Vasíli has  not come and brought his pupil with him” (for some reason Prince  Bolkónski referred to Anatole as a “pupil”) “for the sake of my  beautiful eyes. Last night a proposition was made me on your account  and, as you know my principles, I refer it to you. ”    “How am I to understand you, mon père? ” said the princess, growing  pale and then blushing. ” cried her father angrily. “Prince Vasíli  finds you to his taste as a daughter-in-law and makes a proposal to you  on his pupil’s behalf. That’s how it’s to be understood! ”    “I do not know what you think, Father,” whispered the princess. Leave me out of the question. I’m not going to  get married. That’s what I want to know. ”    The princess saw that her father regarded the matter with disapproval,  but at that moment the thought occurred to her that her fate would be  decided now or never. She lowered her eyes so as not to see the gaze  under which she felt that she could not think, but would only be able to  submit from habit, and she said: “I wish only to do your will, but if  I had to express my own desire. ” She had no time to finish. The old  prince interrupted her. “He will take you with your  dowry and take Mademoiselle Bourienne into the bargain. She’ll be the  wife, while you. He saw the effect these words had produced on his  daughter. She lowered her head and was ready to burst into tears. “Now then, now then, I’m only joking! “Remember this,  Princess, I hold to the principle that a maiden has a full right to  choose. Only remember that your life’s happiness  depends on your decision. ”    “But I do not know, Father! ”    “There’s no need to talk! He receives his orders and will marry you  or anybody; but you are free to choose. Go to your room, think it  over, and come back in an hour and tell me in his presence: yes or no. I know you will pray over it. Well, pray if you like, but you had better  think it over. \n",
      "\n"
     ]
    }
   ],
   "source": [
    "# Print a few example chunks\n",
    "for _ in range(5):\n",
    "    chunk = random.choice(chunks)\n",
    "    print(chunk.text, \"\\n\")"
   ]
  },
  {
   "cell_type": "markdown",
   "metadata": {},
   "source": [
    "Those look good. Next, let's create a vector search index with Vicinity and Model2Vec.\n",
    "\n",
    "**Creating a vector search index**"
   ]
  },
  {
   "cell_type": "code",
   "execution_count": 55,
   "metadata": {},
   "outputs": [
    {
     "name": "stdout",
     "output_type": "stream",
     "text": [
      "Time taken: 1.4906437500030734\n"
     ]
    }
   ],
   "source": [
    "# Initialize an embedding model and encode the chunk texts\n",
    "time = perf_counter()\n",
    "model = StaticModel.from_pretrained(\"minishlab/potion-base-8M\")\n",
    "chunk_texts = [chunk.text for chunk in chunks]\n",
    "chunk_embeddings = model.encode(chunk_texts)\n",
    "\n",
    "# Create a Vicinity instance\n",
    "vicinity = Vicinity.from_vectors_and_items(vectors=chunk_embeddings, items=chunk_texts)\n",
    "print(f\"Time taken: {perf_counter() - time}\")"
   ]
  },
  {
   "cell_type": "markdown",
   "metadata": {},
   "source": [
    "Done! We embedded all our chunks and created an in index in ~1.5 seconds. Now that we have our index, let's query it with some queries.\n",
    "\n",
    "**Querying the index**"
   ]
  },
  {
   "cell_type": "code",
   "execution_count": 58,
   "metadata": {},
   "outputs": [
    {
     "name": "stdout",
     "output_type": "stream",
     "text": [
      "Query: Emperor Napoleon\n",
      "--------------------------------------------------\n",
      " In 1808 the Emperor Alexander went to Erfurt for a fresh interview with  the Emperor Napoleon, and in the upper circles of Petersburg there was  much talk of the grandeur of this important meeting. CHAPTER XXII    In 1809 the intimacy between “the world’s two arbiters,” as  Napoleon and Alexander were called, was such that when Napoleon declared  war on Austria a Russian corps crossed the frontier to co-operate with  our old enemy Bonaparte against our old ally the Emperor of Austria, and  in court circles the possibility of marriage between Napoleon and one  of Alexander’s sisters was spoken of. \n",
      "\n",
      " ) “It’s in the Emperor’s  service. \n",
      "\n",
      " “The day before yesterday it was ‘Napoléon, France,  bravoure’; yesterday, ‘Alexandre, Russie, grandeur. ’ One day our  Emperor gives it and next day Napoleon. Tomorrow our Emperor will send  a St. \n",
      "\n",
      "Query: The battle of Austerlitz\n",
      "--------------------------------------------------\n",
      " On the first arrival of the news of the battle of Austerlitz, Moscow had  been bewildered. \n",
      "\n",
      " That  city is taken; the Russian army suffers heavier losses than the opposing  armies had suffered in the former war from Austerlitz to Wagram. \n",
      "\n",
      " Behave as you did at  Austerlitz, Friedland, Vítebsk, and Smolénsk. \n",
      "\n",
      "Query: Paris\n",
      "--------------------------------------------------\n",
      " A man who doesn’t know Paris  is a savage. You can tell a Parisian two leagues off. Paris is Talma, la  Duchénois, Potier, the Sorbonne, the boulevards,” and noticing that  his conclusion was weaker than what had gone before, he added quickly:  “There is only one Paris in the world. You have been to Paris and have  remained Russian. \n",
      "\n",
      " Well, what is Paris saying? \n",
      "\n",
      " Paris would have been the capital of the world, and the French the envy  of the nations! \n",
      "\n"
     ]
    }
   ],
   "source": [
    "queries = [\"Emperor Napoleon\", \"The battle of Austerlitz\", \"Paris\"]\n",
    "for query in queries:\n",
    "    print(f\"Query: {query}\\n{'-' * 50}\")\n",
    "    query_embedding = model.encode(query)\n",
    "    results = vicinity.query(query_embedding, k=3)[0]\n",
    "\n",
    "    for result in results:\n",
    "        print(result[0], \"\\n\")"
   ]
  },
  {
   "cell_type": "markdown",
   "metadata": {},
   "source": [
    "These indeed look like relevant chunks, nice! That's it for this tutorial. We were able to chunk, index, and query War and Peace in about 3.5 seconds using Chonkie, Vicinity, and Model2Vec. Lightweight and fast, just how we like it."
   ]
  }
 ],
 "metadata": {
  "kernelspec": {
   "display_name": "3.10.12",
   "language": "python",
   "name": "python3"
  },
  "language_info": {
   "codemirror_mode": {
    "name": "ipython",
    "version": 3
   },
   "file_extension": ".py",
   "mimetype": "text/x-python",
   "name": "python",
   "nbconvert_exporter": "python",
   "pygments_lexer": "ipython3",
   "version": "3.10.12"
  }
 },
 "nbformat": 4,
 "nbformat_minor": 2
}
